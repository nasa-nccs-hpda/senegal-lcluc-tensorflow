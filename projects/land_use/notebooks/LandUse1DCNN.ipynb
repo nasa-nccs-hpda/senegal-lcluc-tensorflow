{
 "cells": [
  {
   "cell_type": "code",
   "execution_count": 1,
   "id": "b7ca7765-ba86-48e7-8bd8-927197f936af",
   "metadata": {},
   "outputs": [
    {
     "name": "stderr",
     "output_type": "stream",
     "text": [
      "2022-11-03 05:48:22.105610: I tensorflow/stream_executor/platform/default/dso_loader.cc:49] Successfully opened dynamic library libcudart.so.11.0\n",
      "/gpfsm/ccds01/home/appmgr/app/jupyterhub/ilab/kernel/lib/python3.7/site-packages/requests/__init__.py:104: RequestsDependencyWarning: urllib3 (1.26.12) or chardet (5.0.0)/charset_normalizer (2.0.10) doesn't match a supported version!\n",
      "  RequestsDependencyWarning)\n"
     ]
    }
   ],
   "source": [
    "import numpy as np\n",
    "import pandas as pd\n",
    "import tensorflow as tf\n",
    "import geopandas as gpd\n",
    "from sklearn.model_selection import train_test_split\n",
    "from sklearn.preprocessing import StandardScaler"
   ]
  },
  {
   "cell_type": "markdown",
   "id": "6bb2b389-3b4b-4253-93b2-bd38f939df77",
   "metadata": {},
   "source": [
    "## Exploratory Data Analysis\n",
    "\n",
    "Lets explore the data in this section and get an idea of what the values from the training dataset bring."
   ]
  },
  {
   "cell_type": "code",
   "execution_count": 2,
   "id": "9d8397a7-2343-4646-9607-bc59841c5c85",
   "metadata": {},
   "outputs": [],
   "source": [
    "gpkg_filenames = [\n",
    "    '/explore/nobackup/projects/3sl/labels/landuse/Tappan09_WV03_20190319_M1BS_104001004A1FF400_data-cog_epsg103528.gpkg'\n",
    "]"
   ]
  },
  {
   "cell_type": "code",
   "execution_count": 3,
   "id": "025415b1-8b16-45b0-a164-81f6631aa7e2",
   "metadata": {},
   "outputs": [],
   "source": [
    "def merge_gdfs(filenames):\n",
    "    gdfs = []\n",
    "    for filename in filenames:\n",
    "        gdfs.append(gpd.read_file(filename))\n",
    "    return pd.concat(gdfs, axis=1)"
   ]
  },
  {
   "cell_type": "code",
   "execution_count": 17,
   "id": "000d4474-5597-43dc-8b4d-23884081eedb",
   "metadata": {},
   "outputs": [
    {
     "data": {
      "text/plain": [
       "(array([1, 2, 3, 4]),\n",
       " 1    100\n",
       " 3     22\n",
       " 2     18\n",
       " 4      6\n",
       " Name: id, dtype: int64)"
      ]
     },
     "execution_count": 17,
     "metadata": {},
     "output_type": "execute_result"
    }
   ],
   "source": [
    "gdf = merge_gdfs(gpkg_filenames)\n",
    "gdf['id'].unique(), gdf['id'].value_counts()"
   ]
  },
  {
   "cell_type": "code",
   "execution_count": 5,
   "id": "5f7f3066-044e-4ed3-a9d3-cdb215ce9f7b",
   "metadata": {},
   "outputs": [
    {
     "data": {
      "text/plain": [
       "Index(['id', 'mean_2019_jan', 'mean_2019_feb', 'mean_2019_mar',\n",
       "       'mean_2019_apr', 'mean_2019_may', 'mean_2019_jun', 'mean_2019_jul',\n",
       "       'mean_2019_aug', 'mean_2019_sep', 'mean_2019_oct', 'mean_2019_nov',\n",
       "       'mean_2019_dec', 'mean_2017_jan', 'mean_2017_feb', 'mean_2017_mar',\n",
       "       'mean_2017_apr', 'mean_2017_may', 'mean_2017_jun', 'mean_2017_jul',\n",
       "       'mean_2017_aug', 'mean_2017_sep', 'mean_2017_oct', 'mean_2017_nov',\n",
       "       'mean_2017_dec', 'mean_2021_jan', 'mean_2021_feb', 'mean_2021_mar',\n",
       "       'mean_2021_apr', 'mean_2021_may', 'mean_2021_jun', 'mean_2021_jul',\n",
       "       'mean_2021_aug', 'mean_2021_sep', 'mean_2021_oct', 'mean_2021_nov',\n",
       "       'mean_2021_dec', 'mean_2018_jan', 'mean_2018_feb', 'mean_2018_mar',\n",
       "       'mean_2018_apr', 'mean_2018_may', 'mean_2018_jun', 'mean_2018_jul',\n",
       "       'mean_2018_aug', 'mean_2018_sep', 'mean_2018_oct', 'mean_2018_nov',\n",
       "       'mean_2018_dec', 'mean_2020_jan', 'mean_2020_feb', 'mean_2020_mar',\n",
       "       'mean_2020_apr', 'mean_2020_may', 'mean_2020_jun', 'mean_2020_jul',\n",
       "       'mean_2020_aug', 'mean_2020_sep', 'mean_2020_oct', 'mean_2020_nov',\n",
       "       'mean_2020_dec', 'mean_2016_jan', 'mean_2016_feb', 'mean_2016_mar',\n",
       "       'mean_2016_apr', 'mean_2016_may', 'mean_2016_jun', 'mean_2016_jul',\n",
       "       'mean_2016_aug', 'mean_2016_sep', 'mean_2016_oct', 'mean_2016_nov',\n",
       "       'mean_2016_dec', 'geometry'],\n",
       "      dtype='object')"
      ]
     },
     "execution_count": 5,
     "metadata": {},
     "output_type": "execute_result"
    }
   ],
   "source": [
    "gdf.columns"
   ]
  },
  {
   "cell_type": "code",
   "execution_count": 6,
   "id": "8b936ccb-61dd-462e-8f31-c3e6d2e84f75",
   "metadata": {},
   "outputs": [
    {
     "data": {
      "text/plain": [
       "(146, 74)"
      ]
     },
     "execution_count": 6,
     "metadata": {},
     "output_type": "execute_result"
    }
   ],
   "source": [
    "gdf.shape"
   ]
  },
  {
   "cell_type": "code",
   "execution_count": 7,
   "id": "2529e965-5033-42a6-9390-6a49723094eb",
   "metadata": {},
   "outputs": [
    {
     "data": {
      "text/plain": [
       "(146, 74)"
      ]
     },
     "execution_count": 7,
     "metadata": {},
     "output_type": "execute_result"
    }
   ],
   "source": [
    "gdf = gdf.sample(frac=1, random_state=24)\n",
    "gdf.isnull().values.any()\n",
    "gdf.shape"
   ]
  },
  {
   "cell_type": "markdown",
   "id": "0ec37f24-6086-41e8-95de-5f954c6df5b5",
   "metadata": {},
   "source": [
    "### Plot Some Occurrences for Several Class=1 Observations"
   ]
  },
  {
   "cell_type": "markdown",
   "id": "4d6f0eee-e75c-4101-90f4-8351b0d92424",
   "metadata": {},
   "source": [
    "### Plot Some Occurrences for Several Class=2 Observations"
   ]
  },
  {
   "cell_type": "markdown",
   "id": "f57a1597-6ee8-40f6-9c43-9639ff5484fe",
   "metadata": {},
   "source": [
    "### Plot Some Occurrences for Several Class=3 Observations"
   ]
  },
  {
   "cell_type": "markdown",
   "id": "b0588c13-1468-4bdb-ba5d-22d6191cec3b",
   "metadata": {},
   "source": [
    "## Preprocess Dataset\n",
    "\n",
    "Here we divide the dataset and preprocess the features."
   ]
  },
  {
   "cell_type": "code",
   "execution_count": 8,
   "id": "75aa07b3-c8dd-433d-8828-24ec8c935b84",
   "metadata": {},
   "outputs": [
    {
     "data": {
      "text/html": [
       "<div>\n",
       "<style scoped>\n",
       "    .dataframe tbody tr th:only-of-type {\n",
       "        vertical-align: middle;\n",
       "    }\n",
       "\n",
       "    .dataframe tbody tr th {\n",
       "        vertical-align: top;\n",
       "    }\n",
       "\n",
       "    .dataframe thead th {\n",
       "        text-align: right;\n",
       "    }\n",
       "</style>\n",
       "<table border=\"1\" class=\"dataframe\">\n",
       "  <thead>\n",
       "    <tr style=\"text-align: right;\">\n",
       "      <th></th>\n",
       "      <th>mean_2019_jan</th>\n",
       "      <th>mean_2019_feb</th>\n",
       "      <th>mean_2019_mar</th>\n",
       "      <th>mean_2019_apr</th>\n",
       "      <th>mean_2019_may</th>\n",
       "      <th>mean_2019_jun</th>\n",
       "      <th>mean_2019_jul</th>\n",
       "      <th>mean_2019_aug</th>\n",
       "      <th>mean_2019_sep</th>\n",
       "      <th>mean_2019_oct</th>\n",
       "      <th>...</th>\n",
       "      <th>mean_2016_mar</th>\n",
       "      <th>mean_2016_apr</th>\n",
       "      <th>mean_2016_may</th>\n",
       "      <th>mean_2016_jun</th>\n",
       "      <th>mean_2016_jul</th>\n",
       "      <th>mean_2016_aug</th>\n",
       "      <th>mean_2016_sep</th>\n",
       "      <th>mean_2016_oct</th>\n",
       "      <th>mean_2016_nov</th>\n",
       "      <th>mean_2016_dec</th>\n",
       "    </tr>\n",
       "  </thead>\n",
       "  <tbody>\n",
       "    <tr>\n",
       "      <th>72</th>\n",
       "      <td>-17.258821</td>\n",
       "      <td>-18.158165</td>\n",
       "      <td>-27.031818</td>\n",
       "      <td>-18.800632</td>\n",
       "      <td>-17.918495</td>\n",
       "      <td>-17.272913</td>\n",
       "      <td>-15.801107</td>\n",
       "      <td>-18.921427</td>\n",
       "      <td>-15.720992</td>\n",
       "      <td>-17.290791</td>\n",
       "      <td>...</td>\n",
       "      <td>-22.003847</td>\n",
       "      <td>-19.437441</td>\n",
       "      <td>-15.812607</td>\n",
       "      <td>-17.897297</td>\n",
       "      <td>-21.506325</td>\n",
       "      <td>-21.113955</td>\n",
       "      <td>-17.112133</td>\n",
       "      <td>-16.244001</td>\n",
       "      <td>-15.455627</td>\n",
       "      <td>-17.819023</td>\n",
       "    </tr>\n",
       "    <tr>\n",
       "      <th>48</th>\n",
       "      <td>-20.376013</td>\n",
       "      <td>-18.778126</td>\n",
       "      <td>-20.194973</td>\n",
       "      <td>-17.835556</td>\n",
       "      <td>-15.694067</td>\n",
       "      <td>-17.449652</td>\n",
       "      <td>-16.167902</td>\n",
       "      <td>-20.157625</td>\n",
       "      <td>-15.810156</td>\n",
       "      <td>-13.954029</td>\n",
       "      <td>...</td>\n",
       "      <td>-18.588209</td>\n",
       "      <td>-19.811714</td>\n",
       "      <td>-20.270710</td>\n",
       "      <td>-20.650684</td>\n",
       "      <td>-19.994936</td>\n",
       "      <td>-19.439098</td>\n",
       "      <td>-20.354126</td>\n",
       "      <td>-18.844976</td>\n",
       "      <td>-17.419392</td>\n",
       "      <td>-16.278038</td>\n",
       "    </tr>\n",
       "    <tr>\n",
       "      <th>134</th>\n",
       "      <td>-16.404150</td>\n",
       "      <td>-16.784779</td>\n",
       "      <td>-16.563183</td>\n",
       "      <td>-16.897337</td>\n",
       "      <td>-17.165695</td>\n",
       "      <td>-16.773104</td>\n",
       "      <td>-16.690084</td>\n",
       "      <td>-15.223521</td>\n",
       "      <td>-13.243500</td>\n",
       "      <td>-13.074816</td>\n",
       "      <td>...</td>\n",
       "      <td>-16.700872</td>\n",
       "      <td>-16.502077</td>\n",
       "      <td>-16.288830</td>\n",
       "      <td>-16.785433</td>\n",
       "      <td>-15.720626</td>\n",
       "      <td>-15.832570</td>\n",
       "      <td>-13.560377</td>\n",
       "      <td>-13.448991</td>\n",
       "      <td>-15.428528</td>\n",
       "      <td>-16.503464</td>\n",
       "    </tr>\n",
       "    <tr>\n",
       "      <th>126</th>\n",
       "      <td>-30.991901</td>\n",
       "      <td>-30.599104</td>\n",
       "      <td>-29.969912</td>\n",
       "      <td>-31.092501</td>\n",
       "      <td>-30.114588</td>\n",
       "      <td>-30.059267</td>\n",
       "      <td>-30.044329</td>\n",
       "      <td>-29.675978</td>\n",
       "      <td>-27.554686</td>\n",
       "      <td>-28.636284</td>\n",
       "      <td>...</td>\n",
       "      <td>-28.127010</td>\n",
       "      <td>-27.378693</td>\n",
       "      <td>-27.879923</td>\n",
       "      <td>-28.056686</td>\n",
       "      <td>-27.684883</td>\n",
       "      <td>-27.294455</td>\n",
       "      <td>-26.116711</td>\n",
       "      <td>-26.734051</td>\n",
       "      <td>-27.175837</td>\n",
       "      <td>-28.330431</td>\n",
       "    </tr>\n",
       "    <tr>\n",
       "      <th>145</th>\n",
       "      <td>-16.746038</td>\n",
       "      <td>-17.563335</td>\n",
       "      <td>-16.977581</td>\n",
       "      <td>-16.940920</td>\n",
       "      <td>-17.233097</td>\n",
       "      <td>-17.410667</td>\n",
       "      <td>-17.236668</td>\n",
       "      <td>-15.794441</td>\n",
       "      <td>-14.640259</td>\n",
       "      <td>-14.399895</td>\n",
       "      <td>...</td>\n",
       "      <td>-16.339020</td>\n",
       "      <td>-16.378704</td>\n",
       "      <td>-16.571404</td>\n",
       "      <td>-17.714476</td>\n",
       "      <td>-17.033266</td>\n",
       "      <td>-16.306786</td>\n",
       "      <td>-14.446780</td>\n",
       "      <td>-15.169955</td>\n",
       "      <td>-16.474348</td>\n",
       "      <td>-17.177889</td>\n",
       "    </tr>\n",
       "    <tr>\n",
       "      <th>...</th>\n",
       "      <td>...</td>\n",
       "      <td>...</td>\n",
       "      <td>...</td>\n",
       "      <td>...</td>\n",
       "      <td>...</td>\n",
       "      <td>...</td>\n",
       "      <td>...</td>\n",
       "      <td>...</td>\n",
       "      <td>...</td>\n",
       "      <td>...</td>\n",
       "      <td>...</td>\n",
       "      <td>...</td>\n",
       "      <td>...</td>\n",
       "      <td>...</td>\n",
       "      <td>...</td>\n",
       "      <td>...</td>\n",
       "      <td>...</td>\n",
       "      <td>...</td>\n",
       "      <td>...</td>\n",
       "      <td>...</td>\n",
       "      <td>...</td>\n",
       "    </tr>\n",
       "    <tr>\n",
       "      <th>44</th>\n",
       "      <td>-22.809692</td>\n",
       "      <td>-25.823441</td>\n",
       "      <td>-26.522211</td>\n",
       "      <td>-26.562803</td>\n",
       "      <td>-26.751513</td>\n",
       "      <td>-27.442041</td>\n",
       "      <td>-26.040201</td>\n",
       "      <td>-25.044685</td>\n",
       "      <td>-19.216389</td>\n",
       "      <td>-16.853559</td>\n",
       "      <td>...</td>\n",
       "      <td>-18.368500</td>\n",
       "      <td>-18.209187</td>\n",
       "      <td>-19.086456</td>\n",
       "      <td>-19.589415</td>\n",
       "      <td>-20.903450</td>\n",
       "      <td>-20.389366</td>\n",
       "      <td>-22.703344</td>\n",
       "      <td>-16.960533</td>\n",
       "      <td>-16.598263</td>\n",
       "      <td>-19.258465</td>\n",
       "    </tr>\n",
       "    <tr>\n",
       "      <th>56</th>\n",
       "      <td>-23.112127</td>\n",
       "      <td>-21.723648</td>\n",
       "      <td>-23.445162</td>\n",
       "      <td>-18.888369</td>\n",
       "      <td>-17.698860</td>\n",
       "      <td>-16.553949</td>\n",
       "      <td>-22.146704</td>\n",
       "      <td>-18.309772</td>\n",
       "      <td>-18.962271</td>\n",
       "      <td>-17.876995</td>\n",
       "      <td>...</td>\n",
       "      <td>-18.201111</td>\n",
       "      <td>-18.292383</td>\n",
       "      <td>-18.276106</td>\n",
       "      <td>-20.221451</td>\n",
       "      <td>-20.727390</td>\n",
       "      <td>-18.858322</td>\n",
       "      <td>-15.813357</td>\n",
       "      <td>-18.080597</td>\n",
       "      <td>-19.170395</td>\n",
       "      <td>-21.719393</td>\n",
       "    </tr>\n",
       "    <tr>\n",
       "      <th>106</th>\n",
       "      <td>-29.532122</td>\n",
       "      <td>-30.155430</td>\n",
       "      <td>-31.481962</td>\n",
       "      <td>-30.204468</td>\n",
       "      <td>-30.658628</td>\n",
       "      <td>-30.663647</td>\n",
       "      <td>-29.074833</td>\n",
       "      <td>-30.257618</td>\n",
       "      <td>-28.245771</td>\n",
       "      <td>-26.996042</td>\n",
       "      <td>...</td>\n",
       "      <td>-27.767639</td>\n",
       "      <td>-27.646358</td>\n",
       "      <td>-28.007730</td>\n",
       "      <td>-27.887110</td>\n",
       "      <td>-27.065561</td>\n",
       "      <td>-25.780716</td>\n",
       "      <td>-27.036524</td>\n",
       "      <td>-26.633392</td>\n",
       "      <td>-27.406401</td>\n",
       "      <td>-27.515741</td>\n",
       "    </tr>\n",
       "    <tr>\n",
       "      <th>86</th>\n",
       "      <td>-20.602188</td>\n",
       "      <td>-21.330381</td>\n",
       "      <td>-20.294384</td>\n",
       "      <td>-20.234121</td>\n",
       "      <td>-19.130774</td>\n",
       "      <td>-16.669918</td>\n",
       "      <td>-16.444818</td>\n",
       "      <td>-20.282120</td>\n",
       "      <td>-17.627800</td>\n",
       "      <td>-17.488575</td>\n",
       "      <td>...</td>\n",
       "      <td>-19.817316</td>\n",
       "      <td>-18.583254</td>\n",
       "      <td>-18.001551</td>\n",
       "      <td>-18.565052</td>\n",
       "      <td>-19.567661</td>\n",
       "      <td>-18.114532</td>\n",
       "      <td>-18.428226</td>\n",
       "      <td>-22.254911</td>\n",
       "      <td>-22.396244</td>\n",
       "      <td>-24.213293</td>\n",
       "    </tr>\n",
       "    <tr>\n",
       "      <th>132</th>\n",
       "      <td>-30.964552</td>\n",
       "      <td>-31.250195</td>\n",
       "      <td>-31.591738</td>\n",
       "      <td>-30.641851</td>\n",
       "      <td>-31.049965</td>\n",
       "      <td>-30.817141</td>\n",
       "      <td>-30.320051</td>\n",
       "      <td>-30.281963</td>\n",
       "      <td>-26.989113</td>\n",
       "      <td>-27.658371</td>\n",
       "      <td>...</td>\n",
       "      <td>-28.378510</td>\n",
       "      <td>-27.721308</td>\n",
       "      <td>-27.126190</td>\n",
       "      <td>-28.026602</td>\n",
       "      <td>-28.044535</td>\n",
       "      <td>-27.442505</td>\n",
       "      <td>-26.708715</td>\n",
       "      <td>-26.556704</td>\n",
       "      <td>-27.671347</td>\n",
       "      <td>-27.850739</td>\n",
       "    </tr>\n",
       "  </tbody>\n",
       "</table>\n",
       "<p>97 rows × 72 columns</p>\n",
       "</div>"
      ],
      "text/plain": [
       "     mean_2019_jan  mean_2019_feb  mean_2019_mar  mean_2019_apr  \\\n",
       "72      -17.258821     -18.158165     -27.031818     -18.800632   \n",
       "48      -20.376013     -18.778126     -20.194973     -17.835556   \n",
       "134     -16.404150     -16.784779     -16.563183     -16.897337   \n",
       "126     -30.991901     -30.599104     -29.969912     -31.092501   \n",
       "145     -16.746038     -17.563335     -16.977581     -16.940920   \n",
       "..             ...            ...            ...            ...   \n",
       "44      -22.809692     -25.823441     -26.522211     -26.562803   \n",
       "56      -23.112127     -21.723648     -23.445162     -18.888369   \n",
       "106     -29.532122     -30.155430     -31.481962     -30.204468   \n",
       "86      -20.602188     -21.330381     -20.294384     -20.234121   \n",
       "132     -30.964552     -31.250195     -31.591738     -30.641851   \n",
       "\n",
       "     mean_2019_may  mean_2019_jun  mean_2019_jul  mean_2019_aug  \\\n",
       "72      -17.918495     -17.272913     -15.801107     -18.921427   \n",
       "48      -15.694067     -17.449652     -16.167902     -20.157625   \n",
       "134     -17.165695     -16.773104     -16.690084     -15.223521   \n",
       "126     -30.114588     -30.059267     -30.044329     -29.675978   \n",
       "145     -17.233097     -17.410667     -17.236668     -15.794441   \n",
       "..             ...            ...            ...            ...   \n",
       "44      -26.751513     -27.442041     -26.040201     -25.044685   \n",
       "56      -17.698860     -16.553949     -22.146704     -18.309772   \n",
       "106     -30.658628     -30.663647     -29.074833     -30.257618   \n",
       "86      -19.130774     -16.669918     -16.444818     -20.282120   \n",
       "132     -31.049965     -30.817141     -30.320051     -30.281963   \n",
       "\n",
       "     mean_2019_sep  mean_2019_oct  ...  mean_2016_mar  mean_2016_apr  \\\n",
       "72      -15.720992     -17.290791  ...     -22.003847     -19.437441   \n",
       "48      -15.810156     -13.954029  ...     -18.588209     -19.811714   \n",
       "134     -13.243500     -13.074816  ...     -16.700872     -16.502077   \n",
       "126     -27.554686     -28.636284  ...     -28.127010     -27.378693   \n",
       "145     -14.640259     -14.399895  ...     -16.339020     -16.378704   \n",
       "..             ...            ...  ...            ...            ...   \n",
       "44      -19.216389     -16.853559  ...     -18.368500     -18.209187   \n",
       "56      -18.962271     -17.876995  ...     -18.201111     -18.292383   \n",
       "106     -28.245771     -26.996042  ...     -27.767639     -27.646358   \n",
       "86      -17.627800     -17.488575  ...     -19.817316     -18.583254   \n",
       "132     -26.989113     -27.658371  ...     -28.378510     -27.721308   \n",
       "\n",
       "     mean_2016_may  mean_2016_jun  mean_2016_jul  mean_2016_aug  \\\n",
       "72      -15.812607     -17.897297     -21.506325     -21.113955   \n",
       "48      -20.270710     -20.650684     -19.994936     -19.439098   \n",
       "134     -16.288830     -16.785433     -15.720626     -15.832570   \n",
       "126     -27.879923     -28.056686     -27.684883     -27.294455   \n",
       "145     -16.571404     -17.714476     -17.033266     -16.306786   \n",
       "..             ...            ...            ...            ...   \n",
       "44      -19.086456     -19.589415     -20.903450     -20.389366   \n",
       "56      -18.276106     -20.221451     -20.727390     -18.858322   \n",
       "106     -28.007730     -27.887110     -27.065561     -25.780716   \n",
       "86      -18.001551     -18.565052     -19.567661     -18.114532   \n",
       "132     -27.126190     -28.026602     -28.044535     -27.442505   \n",
       "\n",
       "     mean_2016_sep  mean_2016_oct  mean_2016_nov  mean_2016_dec  \n",
       "72      -17.112133     -16.244001     -15.455627     -17.819023  \n",
       "48      -20.354126     -18.844976     -17.419392     -16.278038  \n",
       "134     -13.560377     -13.448991     -15.428528     -16.503464  \n",
       "126     -26.116711     -26.734051     -27.175837     -28.330431  \n",
       "145     -14.446780     -15.169955     -16.474348     -17.177889  \n",
       "..             ...            ...            ...            ...  \n",
       "44      -22.703344     -16.960533     -16.598263     -19.258465  \n",
       "56      -15.813357     -18.080597     -19.170395     -21.719393  \n",
       "106     -27.036524     -26.633392     -27.406401     -27.515741  \n",
       "86      -18.428226     -22.254911     -22.396244     -24.213293  \n",
       "132     -26.708715     -26.556704     -27.671347     -27.850739  \n",
       "\n",
       "[97 rows x 72 columns]"
      ]
     },
     "execution_count": 8,
     "metadata": {},
     "output_type": "execute_result"
    }
   ],
   "source": [
    "y = np.ravel(gdf['id'] - 1)\n",
    "X = gdf.drop(['id', 'geometry'], axis=1)\n",
    "X_train, X_test, y_train, y_test = train_test_split(X, y, test_size=0.33, random_state=42)\n",
    "X_train"
   ]
  },
  {
   "cell_type": "code",
   "execution_count": 9,
   "id": "96b6b59c-f1a9-4dac-8f11-a59c1fc8305c",
   "metadata": {},
   "outputs": [],
   "source": [
    "scaler = StandardScaler().fit(X_train)\n",
    "X_train = scaler.transform(X_train)\n",
    "X_test = scaler.transform(X_test)"
   ]
  },
  {
   "cell_type": "markdown",
   "id": "0c38b86b-5f00-41df-8fc2-0784b16ba126",
   "metadata": {},
   "source": [
    "## Create and Train the Model"
   ]
  },
  {
   "cell_type": "code",
   "execution_count": 10,
   "id": "10e4be8f-1d18-4f55-be63-dc05a7567e35",
   "metadata": {},
   "outputs": [],
   "source": [
    "from tensorflow.keras.layers import *\n",
    "from tensorflow.keras.optimizers import *\n",
    "from tensorflow.keras.models import *\n",
    "from tensorflow.keras.callbacks import *"
   ]
  },
  {
   "cell_type": "code",
   "execution_count": 11,
   "id": "64ed42e7-cfd6-4a26-b0a9-a7d865c06198",
   "metadata": {},
   "outputs": [
    {
     "name": "stderr",
     "output_type": "stream",
     "text": [
      "2022-11-03 05:48:40.430565: I tensorflow/compiler/jit/xla_cpu_device.cc:41] Not creating XLA devices, tf_xla_enable_xla_devices not set\n",
      "2022-11-03 05:48:40.432714: I tensorflow/stream_executor/platform/default/dso_loader.cc:49] Successfully opened dynamic library libcuda.so.1\n",
      "2022-11-03 05:48:40.505164: I tensorflow/core/common_runtime/gpu/gpu_device.cc:1720] Found device 0 with properties: \n",
      "pciBusID: 0000:62:00.0 name: Tesla V100-SXM2-32GB computeCapability: 7.0\n",
      "coreClock: 1.53GHz coreCount: 80 deviceMemorySize: 31.75GiB deviceMemoryBandwidth: 836.37GiB/s\n",
      "2022-11-03 05:48:40.505212: I tensorflow/stream_executor/platform/default/dso_loader.cc:49] Successfully opened dynamic library libcudart.so.11.0\n",
      "2022-11-03 05:48:40.511730: I tensorflow/stream_executor/platform/default/dso_loader.cc:49] Successfully opened dynamic library libcublas.so.11\n",
      "2022-11-03 05:48:40.511845: I tensorflow/stream_executor/platform/default/dso_loader.cc:49] Successfully opened dynamic library libcublasLt.so.11\n",
      "2022-11-03 05:48:40.514244: I tensorflow/stream_executor/platform/default/dso_loader.cc:49] Successfully opened dynamic library libcufft.so.10\n",
      "2022-11-03 05:48:40.515426: I tensorflow/stream_executor/platform/default/dso_loader.cc:49] Successfully opened dynamic library libcurand.so.10\n",
      "2022-11-03 05:48:40.520099: I tensorflow/stream_executor/platform/default/dso_loader.cc:49] Successfully opened dynamic library libcusolver.so.10\n",
      "2022-11-03 05:48:40.522541: I tensorflow/stream_executor/platform/default/dso_loader.cc:49] Successfully opened dynamic library libcusparse.so.11\n",
      "2022-11-03 05:48:40.524226: I tensorflow/stream_executor/platform/default/dso_loader.cc:49] Successfully opened dynamic library libcudnn.so.8\n",
      "2022-11-03 05:48:40.525098: I tensorflow/core/common_runtime/gpu/gpu_device.cc:1862] Adding visible gpu devices: 0\n",
      "2022-11-03 05:48:40.525720: I tensorflow/core/platform/cpu_feature_guard.cc:142] This TensorFlow binary is optimized with oneAPI Deep Neural Network Library (oneDNN) to use the following CPU instructions in performance-critical operations:  AVX512F\n",
      "To enable them in other operations, rebuild TensorFlow with the appropriate compiler flags.\n",
      "2022-11-03 05:48:40.527866: I tensorflow/compiler/jit/xla_gpu_device.cc:99] Not creating XLA devices, tf_xla_enable_xla_devices not set\n",
      "2022-11-03 05:48:40.528299: I tensorflow/core/common_runtime/gpu/gpu_device.cc:1720] Found device 0 with properties: \n",
      "pciBusID: 0000:62:00.0 name: Tesla V100-SXM2-32GB computeCapability: 7.0\n",
      "coreClock: 1.53GHz coreCount: 80 deviceMemorySize: 31.75GiB deviceMemoryBandwidth: 836.37GiB/s\n",
      "2022-11-03 05:48:40.528324: I tensorflow/stream_executor/platform/default/dso_loader.cc:49] Successfully opened dynamic library libcudart.so.11.0\n",
      "2022-11-03 05:48:40.528346: I tensorflow/stream_executor/platform/default/dso_loader.cc:49] Successfully opened dynamic library libcublas.so.11\n",
      "2022-11-03 05:48:40.528359: I tensorflow/stream_executor/platform/default/dso_loader.cc:49] Successfully opened dynamic library libcublasLt.so.11\n",
      "2022-11-03 05:48:40.528373: I tensorflow/stream_executor/platform/default/dso_loader.cc:49] Successfully opened dynamic library libcufft.so.10\n",
      "2022-11-03 05:48:40.528385: I tensorflow/stream_executor/platform/default/dso_loader.cc:49] Successfully opened dynamic library libcurand.so.10\n",
      "2022-11-03 05:48:40.528398: I tensorflow/stream_executor/platform/default/dso_loader.cc:49] Successfully opened dynamic library libcusolver.so.10\n",
      "2022-11-03 05:48:40.528410: I tensorflow/stream_executor/platform/default/dso_loader.cc:49] Successfully opened dynamic library libcusparse.so.11\n",
      "2022-11-03 05:48:40.528423: I tensorflow/stream_executor/platform/default/dso_loader.cc:49] Successfully opened dynamic library libcudnn.so.8\n",
      "2022-11-03 05:48:40.528997: I tensorflow/core/common_runtime/gpu/gpu_device.cc:1862] Adding visible gpu devices: 0\n",
      "2022-11-03 05:48:40.529040: I tensorflow/stream_executor/platform/default/dso_loader.cc:49] Successfully opened dynamic library libcudart.so.11.0\n",
      "2022-11-03 05:48:41.094485: I tensorflow/core/common_runtime/gpu/gpu_device.cc:1261] Device interconnect StreamExecutor with strength 1 edge matrix:\n",
      "2022-11-03 05:48:41.094525: I tensorflow/core/common_runtime/gpu/gpu_device.cc:1267]      0 \n",
      "2022-11-03 05:48:41.094534: I tensorflow/core/common_runtime/gpu/gpu_device.cc:1280] 0:   N \n",
      "2022-11-03 05:48:41.097622: I tensorflow/core/common_runtime/gpu/gpu_device.cc:1406] Created TensorFlow device (/job:localhost/replica:0/task:0/device:GPU:0 with 30129 MB memory) -> physical GPU (device: 0, name: Tesla V100-SXM2-32GB, pci bus id: 0000:62:00.0, compute capability: 7.0)\n",
      "2022-11-03 05:48:41.418876: I tensorflow/compiler/mlir/mlir_graph_optimization_pass.cc:116] None of the MLIR optimization passes are enabled (registered 2)\n",
      "2022-11-03 05:48:41.430963: I tensorflow/core/platform/profile_utils/cpu_utils.cc:112] CPU Frequency: 2500000000 Hz\n"
     ]
    },
    {
     "name": "stdout",
     "output_type": "stream",
     "text": [
      "Epoch 1/8\n"
     ]
    },
    {
     "name": "stderr",
     "output_type": "stream",
     "text": [
      "2022-11-03 05:48:41.681460: I tensorflow/stream_executor/platform/default/dso_loader.cc:49] Successfully opened dynamic library libcublas.so.11\n"
     ]
    },
    {
     "name": "stdout",
     "output_type": "stream",
     "text": [
      "97/97 [==============================] - 1s 798us/step - loss: 1.5078 - accuracy: 0.2693\n",
      "Epoch 2/8\n",
      "97/97 [==============================] - 0s 758us/step - loss: 0.9461 - accuracy: 0.6981\n",
      "Epoch 3/8\n",
      " 1/97 [..............................] - ETA: 0s - loss: 0.3983 - accuracy: 1.0000"
     ]
    },
    {
     "name": "stderr",
     "output_type": "stream",
     "text": [
      "2022-11-03 05:48:42.028495: I tensorflow/stream_executor/platform/default/dso_loader.cc:49] Successfully opened dynamic library libcublasLt.so.11\n"
     ]
    },
    {
     "name": "stdout",
     "output_type": "stream",
     "text": [
      "97/97 [==============================] - 0s 783us/step - loss: 0.5977 - accuracy: 0.8583\n",
      "Epoch 4/8\n",
      "97/97 [==============================] - 0s 777us/step - loss: 0.5668 - accuracy: 0.7890\n",
      "Epoch 5/8\n",
      "97/97 [==============================] - 0s 796us/step - loss: 0.5081 - accuracy: 0.7592\n",
      "Epoch 6/8\n",
      "97/97 [==============================] - 0s 780us/step - loss: 0.4283 - accuracy: 0.7733\n",
      "Epoch 7/8\n",
      "97/97 [==============================] - 0s 799us/step - loss: 0.3700 - accuracy: 0.7871\n",
      "Epoch 8/8\n",
      "97/97 [==============================] - 0s 766us/step - loss: 0.3180 - accuracy: 0.8260\n"
     ]
    },
    {
     "data": {
      "text/plain": [
       "<tensorflow.python.keras.callbacks.History at 0x152ea410ce90>"
      ]
     },
     "execution_count": 11,
     "metadata": {},
     "output_type": "execute_result"
    }
   ],
   "source": [
    "model = Sequential()\n",
    "model.add(Dense(8, activation='relu', input_shape=(72,)))\n",
    "model.add(Dense(8, activation='relu'))\n",
    "model.add(Dense(4, activation='softmax'))\n",
    "model.compile(optimizer='adam',\n",
    "              loss='sparse_categorical_crossentropy',\n",
    "              metrics=['accuracy'])\n",
    "model.fit(X_train, y_train,epochs=8, batch_size=1, verbose=1)"
   ]
  },
  {
   "cell_type": "code",
   "execution_count": 12,
   "id": "93203987-ac02-496d-9cdc-9c30bfe189af",
   "metadata": {},
   "outputs": [
    {
     "name": "stdout",
     "output_type": "stream",
     "text": [
      "Epoch 1/100\n"
     ]
    },
    {
     "name": "stderr",
     "output_type": "stream",
     "text": [
      "2022-11-03 05:48:43.471530: I tensorflow/stream_executor/platform/default/dso_loader.cc:49] Successfully opened dynamic library libcudnn.so.8\n",
      "2022-11-03 05:48:50.449289: W tensorflow/stream_executor/gpu/asm_compiler.cc:63] Running ptxas --version returned 256\n",
      "2022-11-03 05:48:50.534363: W tensorflow/stream_executor/gpu/redzone_allocator.cc:314] Internal: ptxas exited with non-zero error code 256, output: \n",
      "Relying on driver to perform ptx compilation. \n",
      "Modify $PATH to customize ptxas location.\n",
      "This message will be only logged once.\n"
     ]
    },
    {
     "name": "stdout",
     "output_type": "stream",
     "text": [
      "97/97 [==============================] - 20s 3ms/step - loss: 0.7940 - accuracy: 0.6492\n",
      "Epoch 2/100\n",
      "97/97 [==============================] - 0s 3ms/step - loss: 0.1063 - accuracy: 0.9914\n",
      "Epoch 3/100\n",
      "97/97 [==============================] - 0s 3ms/step - loss: 0.1201 - accuracy: 0.9834\n",
      "Epoch 4/100\n",
      "97/97 [==============================] - 0s 3ms/step - loss: 0.0928 - accuracy: 0.9611\n",
      "Epoch 5/100\n",
      "97/97 [==============================] - 0s 3ms/step - loss: 0.0271 - accuracy: 0.9890\n",
      "Epoch 6/100\n",
      "97/97 [==============================] - 0s 3ms/step - loss: 0.0175 - accuracy: 0.9991\n",
      "Epoch 7/100\n",
      "97/97 [==============================] - 0s 3ms/step - loss: 0.0342 - accuracy: 0.9909\n",
      "Epoch 8/100\n",
      "97/97 [==============================] - 0s 3ms/step - loss: 0.0021 - accuracy: 1.0000\n",
      "Epoch 9/100\n",
      "97/97 [==============================] - 0s 3ms/step - loss: 5.6753e-04 - accuracy: 1.0000\n",
      "Epoch 10/100\n",
      "97/97 [==============================] - 0s 3ms/step - loss: 1.2912e-04 - accuracy: 1.0000\n",
      "Epoch 11/100\n",
      "97/97 [==============================] - 0s 3ms/step - loss: 0.0076 - accuracy: 0.9923\n",
      "Epoch 12/100\n",
      "97/97 [==============================] - 0s 3ms/step - loss: 3.3063e-05 - accuracy: 1.0000\n",
      "Epoch 13/100\n",
      "97/97 [==============================] - 0s 3ms/step - loss: 0.0012 - accuracy: 1.0000\n",
      "Epoch 14/100\n",
      "97/97 [==============================] - 0s 3ms/step - loss: 0.1105 - accuracy: 0.9473\n",
      "Epoch 15/100\n",
      "97/97 [==============================] - 0s 3ms/step - loss: 1.5771e-04 - accuracy: 1.0000\n",
      "Epoch 16/100\n",
      "97/97 [==============================] - 0s 3ms/step - loss: 2.3078e-05 - accuracy: 1.0000\n",
      "Epoch 17/100\n",
      "97/97 [==============================] - 0s 3ms/step - loss: 6.8346e-06 - accuracy: 1.0000\n",
      "Epoch 18/100\n",
      "97/97 [==============================] - 0s 3ms/step - loss: 3.1617e-06 - accuracy: 1.0000\n",
      "Epoch 19/100\n",
      "97/97 [==============================] - 0s 3ms/step - loss: 9.9024e-07 - accuracy: 1.0000\n",
      "Epoch 20/100\n",
      "97/97 [==============================] - 0s 3ms/step - loss: 3.9726e-06 - accuracy: 1.0000\n",
      "Epoch 21/100\n",
      "97/97 [==============================] - 0s 3ms/step - loss: 0.0127 - accuracy: 1.0000\n",
      "Epoch 22/100\n",
      "97/97 [==============================] - 0s 3ms/step - loss: 4.5057e-07 - accuracy: 1.0000\n",
      "Epoch 23/100\n",
      "97/97 [==============================] - 0s 3ms/step - loss: 5.7989e-06 - accuracy: 1.0000\n",
      "Epoch 24/100\n",
      "97/97 [==============================] - 0s 3ms/step - loss: 2.0610e-06 - accuracy: 1.0000\n",
      "Epoch 25/100\n",
      "97/97 [==============================] - 0s 3ms/step - loss: 1.1979e-07 - accuracy: 1.0000\n",
      "Epoch 26/100\n",
      "97/97 [==============================] - 0s 3ms/step - loss: 1.5433e-07 - accuracy: 1.0000\n",
      "Epoch 27/100\n",
      "97/97 [==============================] - 0s 3ms/step - loss: 1.0466e-06 - accuracy: 1.0000\n",
      "Epoch 28/100\n",
      "97/97 [==============================] - 0s 3ms/step - loss: 1.8014e-09 - accuracy: 1.0000\n",
      "Epoch 29/100\n",
      "97/97 [==============================] - 0s 3ms/step - loss: 1.5027e-07 - accuracy: 1.0000\n",
      "Epoch 30/100\n",
      "97/97 [==============================] - 0s 3ms/step - loss: 1.5373e-06 - accuracy: 1.0000\n",
      "Epoch 31/100\n",
      "97/97 [==============================] - 0s 3ms/step - loss: 2.1103e-07 - accuracy: 1.0000\n",
      "Epoch 32/100\n",
      "97/97 [==============================] - 0s 3ms/step - loss: 1.3415e-07 - accuracy: 1.0000\n",
      "Epoch 33/100\n",
      "97/97 [==============================] - 0s 3ms/step - loss: 5.8656e-09 - accuracy: 1.0000\n",
      "Epoch 34/100\n",
      "97/97 [==============================] - 0s 3ms/step - loss: 6.4690e-05 - accuracy: 1.0000\n",
      "Epoch 35/100\n",
      "97/97 [==============================] - 0s 3ms/step - loss: 3.1281e-07 - accuracy: 1.0000\n",
      "Epoch 36/100\n",
      "97/97 [==============================] - 0s 3ms/step - loss: 3.1810e-08 - accuracy: 1.0000\n",
      "Epoch 37/100\n",
      "97/97 [==============================] - 0s 3ms/step - loss: 1.7814e-08 - accuracy: 1.0000\n",
      "Epoch 38/100\n",
      "97/97 [==============================] - 0s 3ms/step - loss: 1.6819e-06 - accuracy: 1.0000\n"
     ]
    },
    {
     "data": {
      "text/plain": [
       "<tensorflow.python.keras.callbacks.History at 0x152e9805c350>"
      ]
     },
     "execution_count": 12,
     "metadata": {},
     "output_type": "execute_result"
    }
   ],
   "source": [
    "dropout_frac = .5\n",
    "channels_1 = 16\n",
    "channels_2 = 32\n",
    "channels_3 = 64\n",
    "kernel_size = 4\n",
    "\n",
    "#optimizer='rmsprop'\n",
    "optimizer='adam'\n",
    "#optimizer='adadelta'\n",
    "#optimizer='nadam'\n",
    "#omtimizer='adagrad'\n",
    "#optimizer='sgd'\n",
    "\n",
    "#################\n",
    "\n",
    "inputlayer=Input(shape=(72,1))\n",
    "x = Conv1D(channels_1, kernel_size=kernel_size, strides=1, padding='same')(inputlayer)\n",
    "x = BatchNormalization()(x)\n",
    "x = LeakyReLU(alpha=.1)(x)\n",
    "x = Dropout(dropout_frac)(x)\n",
    "x = Conv1D(channels_2, kernel_size=kernel_size, strides=1, padding='same')(x)\n",
    "x = BatchNormalization()(x)\n",
    "x = LeakyReLU(alpha=.1)(x)\n",
    "x = Dropout(dropout_frac)(x)\n",
    "x = Conv1D(channels_3, kernel_size=kernel_size, strides=1, padding='same')(x)\n",
    "x = BatchNormalization()(x)\n",
    "x = LeakyReLU(alpha=.1)(x)\n",
    "x = Flatten()(x)\n",
    "x = Dropout(dropout_frac)(x)\n",
    "outputlayer = Dense(4, activation='softmax')(x)\n",
    "model = Model(inputs=[inputlayer], outputs=[outputlayer])\n",
    "model.compile(loss='sparse_categorical_crossentropy',optimizer='rmsprop', metrics=['accuracy'])\n",
    "early_stopping = EarlyStopping(monitor='loss', min_delta=0., patience=10, verbose=0, mode='auto')\n",
    "model.fit(X_train, y_train, epochs=100, batch_size=1, verbose=1, callbacks=[early_stopping])\n",
    "\n",
    "\n",
    "\n",
    "#modelcheckpoint=ModelCheckpoint(weightpath+'suzaku_spectrum_classifier.weights', monitor='loss', verbose=1, save_best_only=True, save_weights_only=True, mode='auto', period=1)\n",
    "#earlystopping=EarlyStopping(monitor='loss', min_delta=0., patience=30, verbose=0, mode='auto')\n",
    "#model.fit(xtrain,ytrain,epochs=1000,callbacks=[modelcheckpoint,earlystopping]);\n",
    "#model.load_weights(weightpath+'suzaku_spectrum_classifier.weights')"
   ]
  },
  {
   "cell_type": "code",
   "execution_count": 13,
   "id": "4d8ad08b-dbfe-48aa-b4ef-bc857b98fbfd",
   "metadata": {},
   "outputs": [
    {
     "data": {
      "image/png": "[encoded data removed]",
      "text/plain": [
       "<Figure size 792x432 with 1 Axes>"
      ]
     },
     "metadata": {
      "needs_background": "light"
     },
     "output_type": "display_data"
    }
   ],
   "source": [
    "import matplotlib.pyplot as plt\n",
    "p = np.argmax(model.predict(X_test), axis=1) + 1\n",
    "plt.figure(figsize=(11,6))\n",
    "plt.hist(p, bins=100);\n",
    "plt.xlabel('Predicted Score');\n",
    "plt.ylabel('Number of Samples');\n",
    "plt.semilogy();"
   ]
  },
  {
   "cell_type": "code",
   "execution_count": 14,
   "id": "a4781794-ca13-413c-a27a-43ec97f4a8f7",
   "metadata": {},
   "outputs": [
    {
     "name": "stdout",
     "output_type": "stream",
     "text": [
      "1/1 [==============================] - 5s 5s/step - loss: 6.2170 - accuracy: 0.6939\n",
      "Evaluating (49,) features\n",
      "test loss, test acc: [6.217000961303711, 0.6938775777816772]\n"
     ]
    }
   ],
   "source": [
    "results = model.evaluate(X_test, y_test, batch_size=128)\n",
    "print(f\"Evaluating {y_test.shape} features\")\n",
    "print(\"test loss, test acc:\", results)"
   ]
  },
  {
   "cell_type": "code",
   "execution_count": 15,
   "id": "e2b65068-c69e-4685-b7ba-9a3bcbee8f4e",
   "metadata": {},
   "outputs": [
    {
     "data": {
      "text/plain": [
       "array([2, 0, 0, 2, 0, 3, 0, 0, 2, 2, 0, 0, 1, 3, 2, 1, 0, 0, 0, 0, 0, 0,\n",
       "       0, 0, 0, 1, 0, 0, 0, 0, 0, 2, 0, 0, 1, 2, 2, 0, 2, 0, 0, 3, 0, 0,\n",
       "       0, 0, 0, 0, 0])"
      ]
     },
     "execution_count": 15,
     "metadata": {},
     "output_type": "execute_result"
    }
   ],
   "source": [
    "y_test + 1"
   ]
  },
  {
   "cell_type": "code",
   "execution_count": 16,
   "id": "88db8a27-30c2-4c82-9e54-ef54eca15893",
   "metadata": {},
   "outputs": [
    {
     "data": {
      "text/plain": [
       "array([2, 2, 2, 2, 2, 2, 2, 2, 2, 4, 2, 2, 2, 2, 2, 2, 2, 2, 2, 2, 2, 2,\n",
       "       2, 2, 2, 2, 2, 2, 2, 2, 2, 2, 2, 2, 2, 2, 2, 2, 2, 2, 2, 2, 2, 2,\n",
       "       2, 2, 2, 2, 2])"
      ]
     },
     "execution_count": 16,
     "metadata": {},
     "output_type": "execute_result"
    }
   ],
   "source": [
    "p + 1"
   ]
  },
  {
   "cell_type": "code",
   "execution_count": null,
   "id": "391bdf40-e19b-48be-a561-2ea11f292890",
   "metadata": {},
   "outputs": [],
   "source": []
  }
 ],
 "metadata": {
  "kernelspec": {
   "display_name": "ilab-kernel",
   "language": "python",
   "name": "python3"
  },
  "language_info": {
   "codemirror_mode": {
    "name": "ipython",
    "version": 3
   },
   "file_extension": ".py",
   "mimetype": "text/x-python",
   "name": "python",
   "nbconvert_exporter": "python",
   "pygments_lexer": "ipython3",
   "version": "3.7.12"
  }
 },
 "nbformat": 4,
 "nbformat_minor": 5
}
