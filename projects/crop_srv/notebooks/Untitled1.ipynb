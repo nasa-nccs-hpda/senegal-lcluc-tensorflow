{
 "cells": [
  {
   "cell_type": "code",
   "execution_count": 2,
   "id": "957f9061-9110-4f55-8f4f-dd8c5c8cba41",
   "metadata": {},
   "outputs": [
    {
     "name": "stdout",
     "output_type": "stream",
     "text": [
      "/usr/local/bin/bash: -c: line 0: syntax error near unexpected token `'nlraa''\n",
      "/usr/local/bin/bash: -c: line 0: `install.packages('nlraa')'\n"
     ]
    }
   ],
   "source": [
    "!install.packages('nlraa')"
   ]
  },
  {
   "cell_type": "code",
   "execution_count": null,
   "id": "e299c15f-c2f9-44f4-b06c-d8d56be49356",
   "metadata": {},
   "outputs": [],
   "source": []
  }
 ],
 "metadata": {
  "kernelspec": {
   "display_name": "Python [conda env:.conda-r-test]",
   "language": "python",
   "name": "conda-env-.conda-r-test-py"
  },
  "language_info": {
   "codemirror_mode": {
    "name": "ipython",
    "version": 3
   },
   "file_extension": ".py",
   "mimetype": "text/x-python",
   "name": "python",
   "nbconvert_exporter": "python",
   "pygments_lexer": "ipython3",
   "version": "3.10.2"
  }
 },
 "nbformat": 4,
 "nbformat_minor": 5
}
