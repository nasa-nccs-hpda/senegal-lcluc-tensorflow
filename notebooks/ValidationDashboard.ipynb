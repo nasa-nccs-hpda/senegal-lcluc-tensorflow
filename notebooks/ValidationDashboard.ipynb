{
 "cells": [
  {
   "cell_type": "markdown",
   "id": "9f315b6b-73ad-467e-88af-70d09251eacd",
   "metadata": {},
   "source": [
    "# 3SL Validation Notebook\n",
    "\n",
    "The following notebook is meant to ease the validation process of raster based semantic segmentation products.\n",
    "\n",
    "    \n",
    "    \n",
    "Files will be saved under:\n",
    "    /home/jovyan/efs/3sl/validation/${username}/${date}-${filename}-${username}.gpkg"
   ]
  },
  {
   "cell_type": "code",
   "execution_count": 3,
   "id": "3020b230-dcf3-486a-af7e-4568a7160c10",
   "metadata": {},
   "outputs": [
    {
     "name": "stderr",
     "output_type": "stream",
     "text": [
      "/gpfsm/ccds01/home/appmgr/app/jupyterhub/ilab/kernel/lib/python3.7/site-packages/requests/__init__.py:104: RequestsDependencyWarning: urllib3 (1.26.12) or chardet (5.0.0)/charset_normalizer (2.0.10) doesn't match a supported version!\n",
      "  RequestsDependencyWarning)\n"
     ]
    }
   ],
   "source": [
    "import sys\n",
    "import socket\n",
    "from IPython.display import display\n",
    "\n",
    "if socket.gethostname()[:3] == 'gpu':\n",
    "    sys.path.append('/explore/nobackup/people/jacaraba/development/senegal-lcluc-tensorflow')\n",
    "else:\n",
    "    sys.path.append('/home/jovyan/efs/projects/3sl/software/senegal-lcluc-tensorflow')\n",
    "\n",
    "from senegal_lcluc_tensorflow.model import toolbar"
   ]
  },
  {
   "cell_type": "code",
   "execution_count": 4,
   "id": "b88f6c17-4db1-46b6-b02f-217e8e62d62f",
   "metadata": {},
   "outputs": [
    {
     "data": {
      "application/vnd.jupyter.widget-view+json": {
       "model_id": "c96f132e87794ec498835bede20ed9b9",
       "version_major": 2,
       "version_minor": 0
      },
      "text/plain": [
       "VBox(children=(FileChooser(path='/panfs/ccds02/nobackup/projects/3sl/data/Tappan', filename='Tappan01_WV02_201…"
      ]
     },
     "metadata": {},
     "output_type": "display_data"
    }
   ],
   "source": [
    "file_chooser_widget = toolbar.file_chooser_widget()"
   ]
  },
  {
   "cell_type": "code",
   "execution_count": 5,
   "id": "70a2db5c-ea92-4bce-9591-5526ee9d4dad",
   "metadata": {},
   "outputs": [
    {
     "data": {
      "application/vnd.jupyter.widget-view+json": {
       "model_id": "05773938455d4e9fb000fb4528da0b8e",
       "version_major": 2,
       "version_minor": 0
      },
      "text/plain": [
       "Map(center=[13.234660396416778, -14.054706625722918], controls=(ZoomControl(options=['position', 'zoom_in_text…"
      ]
     },
     "metadata": {},
     "output_type": "display_data"
    },
    {
     "data": {
      "application/vnd.jupyter.widget-view+json": {
       "model_id": "c114cc20fd594bbbbf0f1a2ec0702c6a",
       "version_major": 2,
       "version_minor": 0
      },
      "text/plain": [
       "Sheet(cells=(Cell(column_end=0, column_start=0, row_end=99, row_start=0, squeeze_row=False, type='numeric', va…"
      ]
     },
     "metadata": {},
     "output_type": "display_data"
    }
   ],
   "source": [
    "m, validation_sheet = toolbar.gen_map(file_chooser_widget)"
   ]
  },
  {
   "cell_type": "code",
   "execution_count": 6,
   "id": "10f1da5e-8255-4bfe-918f-52fe1881ee87",
   "metadata": {},
   "outputs": [],
   "source": [
    "toolbar.save_file(file_chooser_widget, validation_sheet)"
   ]
  },
  {
   "cell_type": "code",
   "execution_count": null,
   "id": "988b74e7-3148-4e82-b4fa-d4318cbd53c8",
   "metadata": {},
   "outputs": [],
   "source": []
  }
 ],
 "metadata": {
  "kernelspec": {
   "display_name": "ilab-kernel",
   "language": "python",
   "name": "python3"
  },
  "language_info": {
   "codemirror_mode": {
    "name": "ipython",
    "version": 3
   },
   "file_extension": ".py",
   "mimetype": "text/x-python",
   "name": "python",
   "nbconvert_exporter": "python",
   "pygments_lexer": "ipython3",
   "version": "3.7.12"
  }
 },
 "nbformat": 4,
 "nbformat_minor": 5
}
