{
 "cells": [
  {
   "cell_type": "markdown",
   "id": "9f315b6b-73ad-467e-88af-70d09251eacd",
   "metadata": {},
   "source": [
    "# 3SL Validation Notebook\n",
    "\n",
    "The following notebook is meant to ease the validation process of raster based semantic segmentation products.\n",
    "To copy the notebook to your path, open a new terminal from the Jupyter instance:\n",
    "\n",
    "```bash\n",
    "cp /home/jovyan/efs/projects/3sl/software/senegal-lcluc-tensorflow/notebooks/ValidationDashboard.ipynb $HOME\n",
    "```\n",
    "    \n",
    "Validation output files will be saved under:\n",
    "    /home/jovyan/efs/3sl/validation/${username}/${date}-${filename}-${username}.gpkg"
   ]
  },
  {
   "cell_type": "code",
   "execution_count": 1,
   "id": "8c416bc9-d980-4ecb-8b6d-8a8a5020131a",
   "metadata": {},
   "outputs": [],
   "source": [
    "#!pip install ipysheet whiteboxgui localtileserver"
   ]
  },
  {
   "cell_type": "code",
   "execution_count": 2,
   "id": "3020b230-dcf3-486a-af7e-4568a7160c10",
   "metadata": {},
   "outputs": [],
   "source": [
    "import sys\n",
    "import socket\n",
    "from IPython.display import display\n",
    "\n",
    "if socket.gethostname()[:3] == 'gpu':\n",
    "    sys.path.append('/explore/nobackup/people/jacaraba/development/senegal-lcluc-tensorflow')\n",
    "else:\n",
    "    sys.path.append('/home/jovyan/efs/projects/3sl/software/senegal-lcluc-tensorflow')\n",
    "\n",
    "from senegal_lcluc_tensorflow.model import toolbar"
   ]
  },
  {
   "cell_type": "code",
   "execution_count": 3,
   "id": "b88f6c17-4db1-46b6-b02f-217e8e62d62f",
   "metadata": {},
   "outputs": [
    {
     "data": {
      "application/vnd.jupyter.widget-view+json": {
       "model_id": "05fad9f0eef44485a9c16252f147f1ab",
       "version_major": 2,
       "version_minor": 0
      },
      "text/plain": [
       "VBox(children=(FileChooser(path='/home/jovyan/efs/projects/3sl/data/Tappan', filename='Tappan01_WV02_20110430_…"
      ]
     },
     "metadata": {},
     "output_type": "display_data"
    }
   ],
   "source": [
    "file_chooser_widget = toolbar.file_chooser_widget()"
   ]
  },
  {
   "cell_type": "code",
   "execution_count": 4,
   "id": "70a2db5c-ea92-4bce-9591-5526ee9d4dad",
   "metadata": {},
   "outputs": [
    {
     "data": {
      "application/vnd.jupyter.widget-view+json": {
       "model_id": "879d4313f4604a09b9f05ce32ef78886",
       "version_major": 2,
       "version_minor": 0
      },
      "text/plain": [
       "Map(center=[13.234660396416778, -14.054706625722918], controls=(ZoomControl(options=['position', 'zoom_in_text…"
      ]
     },
     "metadata": {},
     "output_type": "display_data"
    },
    {
     "data": {
      "application/vnd.jupyter.widget-view+json": {
       "model_id": "2a891951ed814e6bb18cf1aecafbf5bc",
       "version_major": 2,
       "version_minor": 0
      },
      "text/plain": [
       "Sheet(cells=(Cell(column_end=0, column_start=0, row_end=959, row_start=0, squeeze_row=False, type='numeric', v…"
      ]
     },
     "metadata": {},
     "output_type": "display_data"
    }
   ],
   "source": [
    "m, validation_sheet = toolbar.gen_map(file_chooser_widget)"
   ]
  },
  {
   "cell_type": "code",
   "execution_count": 5,
   "id": "10f1da5e-8255-4bfe-918f-52fe1881ee87",
   "metadata": {},
   "outputs": [],
   "source": [
    "toolbar.save_file(file_chooser_widget, validation_sheet)"
   ]
  }
 ],
 "metadata": {
  "kernelspec": {
   "display_name": "Python 3 (ipykernel)",
   "language": "python",
   "name": "python3"
  },
  "language_info": {
   "codemirror_mode": {
    "name": "ipython",
    "version": 3
   },
   "file_extension": ".py",
   "mimetype": "text/x-python",
   "name": "python",
   "nbconvert_exporter": "python",
   "pygments_lexer": "ipython3",
   "version": "3.9.12"
  }
 },
 "nbformat": 4,
 "nbformat_minor": 5
}
