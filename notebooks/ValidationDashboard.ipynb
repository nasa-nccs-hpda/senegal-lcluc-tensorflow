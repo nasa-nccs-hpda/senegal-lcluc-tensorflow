{
 "cells": [
  {
   "cell_type": "markdown",
   "id": "9f315b6b-73ad-467e-88af-70d09251eacd",
   "metadata": {},
   "source": [
    "# 3SL Validation Notebook\n",
    "\n",
    "The following notebook is meant to ease the validation process of raster based semantic segmentation products.\n",
    "\n",
    "Instructions\n",
    "1. Login to SMCE daskhub via URL: https://daskhub.dsg.smce.nasa.gov\n",
    "2. Choose “Small Server”\n",
    "3. Open terminal window by clicking on the “terminal” icon in the lower left of the launcher window\n",
    "  a. Alternatively you can click file -> new -> terminal\n",
    "4. cd /efs/Konrad_GMU\n",
    "5. mkdir \\<your uid\\> (only needs to be done once)\n",
    "6. cd \\<your uid\\>\n",
    "7. Type `wget https://raw.githubusercontent.com/nasa-nccs-hpda/senegal-lcluc-tensorflow/main/notebooks/ValidationDashboard.ipynb`\n",
    "8. In table of contents (left side of window) click on efs -> Konrad_GMU -> \\<your uid\\> \n",
    "  a. Here you should see the notebook you downloaded earlier\n",
    "  b. Double click on the notebook to open it\n",
    "  c. Use the >> button to run the notebook from the beginning or use the > button to go one cell at a time\n",
    "    \n",
    "Validation output files will be saved under:\n",
    "    /home/jovyan/efs/3sl/validation/${username}/${date}-${filename}-${username}.gpkg"
   ]
  },
  {
   "cell_type": "code",
   "execution_count": null,
   "id": "8c416bc9-d980-4ecb-8b6d-8a8a5020131a",
   "metadata": {},
   "outputs": [],
   "source": [
    "#!pip install ipysheet whiteboxgui localtileserver"
   ]
  },
  {
   "cell_type": "code",
   "execution_count": null,
   "id": "3020b230-dcf3-486a-af7e-4568a7160c10",
   "metadata": {},
   "outputs": [],
   "source": [
    "import sys\n",
    "import socket\n",
    "from IPython.display import display\n",
    "\n",
    "if socket.gethostname()[:3] == 'gpu':\n",
    "    sys.path.append('/explore/nobackup/people/jacaraba/development/senegal-lcluc-tensorflow')\n",
    "else:\n",
    "    sys.path.append('/home/jovyan/efs/projects/3sl/software/senegal-lcluc-tensorflow')\n",
    "\n",
    "from senegal_lcluc_tensorflow.model import toolbar"
   ]
  },
  {
   "cell_type": "code",
   "execution_count": null,
   "id": "b88f6c17-4db1-46b6-b02f-217e8e62d62f",
   "metadata": {},
   "outputs": [],
   "source": [
    "file_chooser_widget = toolbar.file_chooser_widget()"
   ]
  },
  {
   "cell_type": "code",
   "execution_count": null,
   "id": "70a2db5c-ea92-4bce-9591-5526ee9d4dad",
   "metadata": {},
   "outputs": [],
   "source": [
    "m, validation_sheet = toolbar.gen_map(file_chooser_widget)"
   ]
  },
  {
   "cell_type": "code",
   "execution_count": null,
   "id": "10f1da5e-8255-4bfe-918f-52fe1881ee87",
   "metadata": {},
   "outputs": [],
   "source": [
    "toolbar.save_file(file_chooser_widget, validation_sheet)"
   ]
  }
 ],
 "metadata": {
  "kernelspec": {
   "display_name": "ilab-kernel",
   "language": "python",
   "name": "python3"
  },
  "language_info": {
   "codemirror_mode": {
    "name": "ipython",
    "version": 3
   },
   "file_extension": ".py",
   "mimetype": "text/x-python",
   "name": "python",
   "nbconvert_exporter": "python",
   "pygments_lexer": "ipython3",
   "version": "3.7.12"
  }
 },
 "nbformat": 4,
 "nbformat_minor": 5
}
