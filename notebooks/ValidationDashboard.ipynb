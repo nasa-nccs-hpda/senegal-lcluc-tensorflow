{
 "cells": [
  {
   "cell_type": "code",
   "execution_count": 1,
   "id": "f34a80e8-ab56-46e6-b5fd-300f04ac3377",
   "metadata": {},
   "outputs": [
    {
     "name": "stderr",
     "output_type": "stream",
     "text": [
      "/gpfsm/ccds01/home/appmgr/app/jupyterhub/ilab/kernel/lib/python3.7/site-packages/requests/__init__.py:104: RequestsDependencyWarning: urllib3 (1.26.12) or chardet (5.0.0)/charset_normalizer (2.0.10) doesn't match a supported version!\n",
      "  RequestsDependencyWarning)\n"
     ]
    }
   ],
   "source": [
    "import sys\n",
    "from IPython.display import display\n",
    "\n",
    "sys.path.append('/explore/nobackup/people/jacaraba/development/senegal-lcluc-tensorflow')\n",
    "\n",
    "from senegal_lcluc_tensorflow.model.validation_dashboard import ValidationDashboard"
   ]
  },
  {
   "cell_type": "code",
   "execution_count": 5,
   "id": "3195b652-7f16-479b-9f27-4d760ec1c920",
   "metadata": {},
   "outputs": [
    {
     "data": {
      "application/vnd.jupyter.widget-view+json": {
       "model_id": "bda476b7773a4214a6e3589e6b9d7b6e",
       "version_major": 2,
       "version_minor": 0
      },
      "text/plain": [
       "ValidationDashboard(center=[40, -100], controls=(ZoomControl(options=['position', 'zoom_in_text', 'zoom_in_tit…"
      ]
     },
     "metadata": {},
     "output_type": "display_data"
    }
   ],
   "source": [
    "dashboard = ValidationDashboard()\n",
    "display(dashboard)\n",
    "# display(dashboard)\n",
    "# display(m.validation_sheet)"
   ]
  },
  {
   "cell_type": "code",
   "execution_count": null,
   "id": "8f183e15-2a01-430d-9be3-a65dab2beacb",
   "metadata": {},
   "outputs": [],
   "source": []
  }
 ],
 "metadata": {
  "kernelspec": {
   "display_name": "ilab-kernel",
   "language": "python",
   "name": "python3"
  },
  "language_info": {
   "codemirror_mode": {
    "name": "ipython",
    "version": 3
   },
   "file_extension": ".py",
   "mimetype": "text/x-python",
   "name": "python",
   "nbconvert_exporter": "python",
   "pygments_lexer": "ipython3",
   "version": "3.7.12"
  }
 },
 "nbformat": 4,
 "nbformat_minor": 5
}
