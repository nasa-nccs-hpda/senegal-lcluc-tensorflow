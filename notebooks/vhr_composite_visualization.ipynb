{
 "cells": [
  {
   "cell_type": "markdown",
   "id": "a3f02afb-e297-4309-afad-1ec3ef929a96",
   "metadata": {},
   "source": [
    "# VHR Composite Metrics Visualization\n",
    "\n",
    "Purpose: Visualize the mode outputs for each grid cell in a composite of vhr model outputs.\n",
    "\n",
    "Installation requirements:\n",
    "\n",
    "```bash\n",
    "pip install localtileserver\n",
    "```\n"
   ]
  },
  {
   "cell_type": "code",
   "execution_count": 1,
   "id": "372072f0-28c3-4fcc-8d20-0402e3c55a07",
   "metadata": {},
   "outputs": [],
   "source": [
    "# !pip install localtileserver"
   ]
  },
  {
   "cell_type": "code",
   "execution_count": 2,
   "id": "1b08d7b2-cceb-4b48-8e8d-9948e9dfe0ec",
   "metadata": {},
   "outputs": [],
   "source": [
    "import os\n",
    "import re\n",
    "import json\n",
    "import folium\n",
    "import numpy as np\n",
    "import rasterio as rio\n",
    "import rioxarray as rxr\n",
    "import xarray as xr\n",
    "import matplotlib.cm as cm\n",
    "import matplotlib.pyplot as plt\n",
    "import matplotlib.colors as mcolors\n",
    "from matplotlib.patches import Rectangle\n",
    "\n",
    "from pprint import pprint\n",
    "\n",
    "from folium import plugins\n",
    "from localtileserver import TileClient, get_leaflet_tile_layer\n",
    "from ipyleaflet import Map, basemaps, ScaleControl, LayersControl\n",
    "from ipyleaflet import LegendControl, FullScreenControl\n",
    "\n",
    "os.environ['LOCALTILESERVER_CLIENT_PREFIX'] = \\\n",
    "    f\"{os.environ['JUPYTERHUB_SERVICE_PREFIX'].lstrip('/')}/proxy/{{port}}\"\n",
    "\n",
    "import localtileserver\n",
    "from localtileserver import get_folium_tile_layer, TileClient"
   ]
  },
  {
   "cell_type": "markdown",
   "id": "49205ea3-e672-4723-9b4c-e541acaeb362",
   "metadata": {},
   "source": [
    "## Notebook Parameters\n",
    "\n",
    "- **GRID_BASE_PATH**: str = Basepath where grid zarr files are located\n",
    "- **TILE**: str = tile to visualize mode product for\n",
    "- **EXPERIMENT**: str = version and epoch "
   ]
  },
  {
   "cell_type": "code",
   "execution_count": 3,
   "id": "46cd8a46-053b-4783-b5f2-6cadca47f410",
   "metadata": {},
   "outputs": [],
   "source": [
    "GRID_BASE_PATH: str = '/explore/nobackup/people/cssprad1/projects/3sl/3.0.0/data'\n",
    "TILE: str = 'h24v38'\n",
    "EXPERIMENT: str = 'v3.2016'"
   ]
  },
  {
   "cell_type": "code",
   "execution_count": 4,
   "id": "83fd913d-e965-4645-9604-0b9d7a84c349",
   "metadata": {},
   "outputs": [],
   "source": [
    "grid_path = os.path.join(GRID_BASE_PATH, EXPERIMENT)"
   ]
  },
  {
   "cell_type": "code",
   "execution_count": 5,
   "id": "e15fd91b-1cd7-49c0-9c7e-a61d078a92bf",
   "metadata": {},
   "outputs": [],
   "source": [
    "# TODO:\n",
    "tiles_basemap: str = 'https://mt1.google.com/vt/lyrs=s&x={x}&y={y}&z={z}'\n",
    "cmap: list = ['#003f5c','#374c80','#7a5195','#bc5090','#ef5675','#ff764a','#ffa600']"
   ]
  },
  {
   "cell_type": "code",
   "execution_count": 6,
   "id": "fe37d2be-4eb1-481b-984f-dd145dd88c39",
   "metadata": {},
   "outputs": [],
   "source": [
    "legend_dict = {\n",
    "    'Mode - 1 label': '#003f5c',\n",
    "    'Mode - 2 label': '#374c80',\n",
    "    'Mode - 3 label': '#bc5090',\n",
    "    'Mode - 0,1 label': '#7a5195',\n",
    "    'Mode - 0,2 label': '#ef5675',\n",
    "    'Mode - 1,2 label': '#ff764a',\n",
    "    'Mode - 0,1,2 label': '#ffa600',\n",
    "}\n",
    "\n",
    "legend = LegendControl(legend_dict)"
   ]
  },
  {
   "cell_type": "code",
   "execution_count": 7,
   "id": "6a941fe5-1b7d-41b9-b73f-348988f91b65",
   "metadata": {},
   "outputs": [
    {
     "data": {
      "application/vnd.jupyter.widget-view+json": {
       "model_id": "72395227ac7b4aac89c353258753e679",
       "version_major": 2,
       "version_minor": 0
      },
      "text/plain": [
       "Map(center=[13.358142643935759, -15.258837022681705], controls=(ZoomControl(options=['position', 'zoom_in_text…"
      ]
     },
     "metadata": {},
     "output_type": "display_data"
    }
   ],
   "source": [
    "# Client - initial client to localize zoom\n",
    "data_client = TileClient(os.path.join(grid_path, f'CAS.M1BS.{TILE}.mode.{EXPERIMENT}.test.tif'))\n",
    "\n",
    "# Create ipyleaflet TileLayer from that server\n",
    "data_layer = get_leaflet_tile_layer(\n",
    "    data_client, \n",
    "    show=False, \n",
    "    cmap=cmap,\n",
    "    nodata=10,\n",
    "    max_zoom=20,\n",
    "    name=\"3sl composite label - mode\")\n",
    "\n",
    "# Create ipyleaflet map, add tile layer, and display\n",
    "m = Map(\n",
    "    center=data_client.center(),\n",
    "    zoom=data_client.default_zoom,\n",
    "    basemap=basemaps.Esri.WorldImagery,\n",
    "    scroll_wheel_zoom=True,\n",
    "    keyboard=True\n",
    ")\n",
    "m.add_layer(data_layer)\n",
    "m.add_control(legend)\n",
    "m.add_control(ScaleControl(position='bottomleft'))\n",
    "m.add_control(LayersControl(position='topright'))\n",
    "m.add_control(FullScreenControl())\n",
    "\n",
    "display(m)"
   ]
  },
  {
   "cell_type": "code",
   "execution_count": null,
   "id": "344b8c35-1911-45ec-b2b2-d1721f5079f0",
   "metadata": {},
   "outputs": [],
   "source": []
  }
 ],
 "metadata": {
  "kernelspec": {
   "display_name": "ILAB Kernel",
   "language": "python",
   "name": "ilab-kernel"
  },
  "language_info": {
   "codemirror_mode": {
    "name": "ipython",
    "version": 3
   },
   "file_extension": ".py",
   "mimetype": "text/x-python",
   "name": "python",
   "nbconvert_exporter": "python",
   "pygments_lexer": "ipython3",
   "version": "3.9.13"
  }
 },
 "nbformat": 4,
 "nbformat_minor": 5
}
